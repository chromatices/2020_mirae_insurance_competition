{
 "cells": [
  {
   "cell_type": "markdown",
   "metadata": {},
   "source": [
    "# 1. EDA를 반영한 알고리즘의 핵심 구성  \n"
   ]
  },
  {
   "cell_type": "markdown",
   "metadata": {
    "id": "bI2jZ3igTzvL"
   },
   "source": [
    "\n",
    "## 1-1. 질병경중급등급코드(dsas_ltwt_gcd, 이하 ltwt라고 표기)을 기준으로 앙상블 기법 사용\n",
    "\n",
    "> 1) ltwt 1에 속하는 접수건들과 그외(ltwt 2,3)에 속하는 접수건들을 분리하여 학습\n",
    "\n",
    "## 1-2. 청구정보(진단, 수술, 입원, 통원)에서 절대적 0과 상대적 0을 구분하는 파생변수 생성\n",
    "\n",
    "> 1) 접수건 별 병원별평균청구정보, 질병별평균청구정보, 접수건별 청구정보가 0 인 경우에 따라 인덱스 생성\n",
    "\n",
    "> 2) 접수건 별 병원별평균청구정보, 질병별평균청구정보, 접수건별 청구정보의 순서에 따라 인덱스 생성\n"
   ]
  },
  {
   "cell_type": "markdown",
   "metadata": {},
   "source": [
    "## 1-3. 변수추출 및 선택\n",
    "\n",
    "> 1) 입원일수(hspz_dys_s), 통원횟수(optt_nbtm_s) 학습에서 제외\n",
    "\n",
    "> 2) 의료기관구분코드(mdct_inu_rclss_dcd)가 9인 경우 학습에서 제외\n",
    "\n",
    "> 3) 의료기관구분코드(mdct_inu_rclss_dcd)와 요양병원여부(nur_hosp_yn) 변수를 하나로 통합"
   ]
  },
  {
   "cell_type": "markdown",
   "metadata": {
    "id": "uhOHITecZvcW"
   },
   "source": [
    "# 2. 핵심 구성에 반영한 EDA 정보\n",
    "\n"
   ]
  },
  {
   "cell_type": "code",
   "execution_count": 1,
   "metadata": {
    "id": "9uNtocDaClgI"
   },
   "outputs": [],
   "source": [
    "import numpy as np\n",
    "import pandas as pd\n",
    "import os\n",
    "import matplotlib.pyplot as plt\n",
    "\n",
    "train_path = r'resources/dataset/insurance/train.csv' \n",
    "test_path = r'resources/dataset/insurance/test.csv' "
   ]
  },
  {
   "cell_type": "code",
   "execution_count": 2,
   "metadata": {
    "id": "gze8AFTyCe74"
   },
   "outputs": [],
   "source": [
    "def load_csv(full_path, index_col = None, usecols = None, dtype = None):\n",
    "\n",
    "    data  = pd.read_csv(filepath_or_buffer= full_path, index_col = index_col, usecols = usecols, dtype = dtype)\n",
    "\n",
    "    return data\n",
    "\n",
    "def make_base(data_path, is_train = True):\n",
    "\n",
    "    data = load_csv(data_path)\n",
    "\n",
    "    #cols = make_base_col(data)\n",
    "    if is_train :\n",
    "        data['label_2'] = 0\n",
    "        data.loc[data.target != 0, 'label_2'] = 1\n",
    "\n",
    "    data = data.drop(columns = ['ID'])\n",
    "    data = data.rename(columns = {'target' : 'label_3'})\n",
    "\n",
    "    return data\n",
    "\n",
    "def cols_dtype(df, target_cols = ['label_3','label_2'], with_label = False):\n",
    "\n",
    "    conti = df.dtypes.loc[df.dtypes != 'int64'].index.values\n",
    "    categ = df.dtypes.loc[df.dtypes == 'int64'].index.values\n",
    "    #Try using .loc[row_indexer,col_indexer] = value instead\n",
    "    \n",
    "    if not with_label :\n",
    "        \n",
    "        categ = np.setdiff1d(categ, target_cols)\n",
    "        \n",
    "    else:\n",
    "        \n",
    "        categ = categ\n",
    "\n",
    "    return conti, categ "
   ]
  },
  {
   "cell_type": "code",
   "execution_count": 3,
   "metadata": {},
   "outputs": [],
   "source": [
    "train_df = make_base(train_path, is_train=True)\n",
    "test_df = make_base(test_path,is_train=False)\n",
    "\n",
    "conti, cate = cols_dtype(test_df)"
   ]
  },
  {
   "cell_type": "markdown",
   "metadata": {
    "id": "gmNnB-ih6tAA"
   },
   "source": [
    "## 2-0. 참고사항\n",
    "\n",
    "> 표기 안내\n",
    "\n",
    "1. 자동지급은 target 0, 서류 심사는 target 1, 현장 심사는 target 2로 표기한다.\n",
    "2. \n",
    "\n",
    "> 참고 사항\n",
    "1. 청구정보를 나타내는 변수에서 절대적 0과 상대적 0이 모두 존재한다.\n",
    "2. 서류 심사와 현장 심사에서는 지급 거절이 될 가능성이 있다.\n",
    "\n",
    "> 절대적 0의 의미\n",
    "1.   청구정보가 없다.(본 접수건에서는 해당 치료행위를  하지 않았다.) \n",
    "2.   지급거절되었다.\n",
    "3.   누락되었다.\n",
    "\n",
    "> 상대적 0의 의미\n",
    "1. 청구정보 중 절대적 0이상의 최솟값이다.\n",
    "2. 개인정보보호를 위해 특정 분포로 변이 하였으나, 음의 실수는 존재하지 않으므로, 최솟값으로 해석할 수 있다."
   ]
  },
  {
   "cell_type": "markdown",
   "metadata": {
    "id": "A26BUokFjgRy"
   },
   "source": [
    "## 2-1. 질병경중급등급코드(dsas_ltwt_gcd, 이하 ltwt라고 표기)을 기준으로 앙상블 기법 사용\n",
    "\n",
    "> 1) ltwt 1인 경우, 청구보험금이 0인 경우 절대적 0일 가능성이 높지만, 그 외의 경우(ltwt 2,3) 상대적 0일 확률이 높다.\n",
    "\n",
    ">> ltwt 1인 경우, 질병별평균청구보험금의 분포를 target 1과 2를 나누어 살펴보면, 대체로 0 이상인 반면, 동일하게 접수건 별 청구보험금의 분포를 살펴본 결과, 특히ㅣ target 2에서 0의 빈도값이 높은 것을 볼 수 있다.\n",
    "\n",
    ">> 반면에 ltwt 2,3인 경우, 질병별평균청구보험금은 target 0,1,2 모두 0을 중심으로 분포되어있지만(이상치 제외), 접수건별 청구보험금의 분포에서 target 2인 경우 각 질병코드 별로 0이 중앙값임을 알 수 있다.\n",
    "\n",
    ">> 이는 동시에 현장 심사를 하게 되는 경우, 지급이 안되는 경우가 많아 질 수 있음을 의미한다. \n",
    "\n",
    "> 2) 동일한 질병구분코드(dsas_acd_rst_dcd, 이하 dsas_rst)이더라도, ltwt가 1인 경우와 아닌 경우의 질병평균청구정보의 분포는 상이하다.\n",
    "\n",
    "> 3) ltwt 1인 경우, 자동지급은 해당되지 않으므로, 다중분류가 아닌 이진분류 문제로 치환할 수 있다."
   ]
  },
  {
   "cell_type": "code",
   "execution_count": 4,
   "metadata": {
    "id": "Bprb646Ver5w"
   },
   "outputs": [],
   "source": [
    "class get_figures(object):\n",
    "\n",
    "    def __init__(self, base_df):\n",
    "        self.base_df = base_df\n",
    "\n",
    "    def make_kwargs(self, val_col, by_col, ax=0, rot=90, showfliers=False):\n",
    "\n",
    "        key_list = ['column','by','ax','showfliers']\n",
    "        val_list = [val_col, by_col, ax, showfliers]\n",
    "\n",
    "        return dict(zip(key_list,val_list))\n",
    "\n",
    "    def get_df_case_1(self, cond_col='dsas_ltwt_gcd', cond_val=1, target_col = 'label_3'):\n",
    "\n",
    "        dsas_23_df = self.base_df.loc[self.base_df[cond_col] != cond_val]\n",
    "\n",
    "        return [gb_df for gb_idx, gb_df in list(dsas_23_df.groupby(target_col))]\n",
    "\n",
    "    def get_df_case_2(self, cond_col='dsas_ltwt_gcd', cond_val=1, target_col = 'label_3'):\n",
    "\n",
    "        dsas_1_df = self.base_df.loc[self.base_df[cond_col] == cond_val]\n",
    "\n",
    "        return [gb_df for gb_idx, gb_df in list(dsas_1_df.groupby(target_col))]\n",
    "\n",
    "\n",
    "    def fig_case_1(self, figsize, kwargs_dict_base = None):\n",
    "      # 아래 세개짜리는 경중급 2,3인데 타겟 0,1,2\n",
    "\n",
    "        fig = plt.figure(figsize = figsize)\n",
    "\n",
    "        ax1=fig.add_subplot(1,3,1)\n",
    "        ax2=fig.add_subplot(1,3,2)\n",
    "        ax3=fig.add_subplot(1,3,3)\n",
    "\n",
    "        i=0\n",
    "        for target_df,ax in zip(self.get_df_case_1(), (ax1,ax2,ax3)):\n",
    "            kwargs_dict_base['ax'] = ax\n",
    "            target_df.boxplot(**kwargs_dict_base)\n",
    "            ax.title.set_text(\"[\" + kwargs_dict_base['column']+ \", \" + kwargs_dict_base['by'] +\", dsas_ltwd_gcd : (2, 3) , target : \" + str(i) + \"]\")\n",
    "            i+=1\n",
    "        plt.suptitle(\"Boxplot grouped by [\" + kwargs_dict_base['column'] + \",\" + kwargs_dict_base['by'] +\", dsas_ltwt_gcd : 2,3]\")\n",
    "\n",
    "        return fig\n",
    "\n",
    "\n",
    "    def fig_case_2(self, figsize, kwargs_dict_base = None):\n",
    "      # 위에 두개짜리는 경중급 1인데 타겟 1,2\n",
    "\n",
    "        fig = plt.figure(figsize = figsize)\n",
    "        ax1=fig.add_subplot(1,2,1)\n",
    "        ax2=fig.add_subplot(1,2,2)\n",
    "\n",
    "        i = 1\n",
    "        for target_df,ax in zip(self.get_df_case_2(), (ax1,ax2)):\n",
    "            kwargs_dict_base['ax'] = ax\n",
    "            target_df.boxplot(**kwargs_dict_base)\n",
    "            ax.title.set_text(\"[\" + kwargs_dict_base['column']+ \", \" + kwargs_dict_base['by'] +\", dsas_ltwd_gcd : 1, target : \" + str(i) + \"]\")\n",
    "            i += 1\n",
    "        plt.suptitle(\"Boxplot grouped by [\" + kwargs_dict_base['column'] + \",\" + kwargs_dict_base['by'] +\", dsas_ltwt_gcd : 1]\")\n",
    "\n",
    "\n",
    "        return fig\n",
    "\n",
    "    def main(self, figsize, val_col, by_col):\n",
    "\n",
    "        kwargs_dict_base= self.make_kwargs(val_col = val_col, by_col = by_col)\n",
    "\n",
    "        fig_1 = self.fig_case_2(figsize=figsize, kwargs_dict_base=kwargs_dict_base)\n",
    "\n",
    "        fig_2 = self.fig_case_1(figsize=figsize,kwargs_dict_base=kwargs_dict_base)\n",
    "\n",
    "\n",
    "        return fig_1, fig_2\n",
    "\n",
    "# 위에 두개짜리는 경중급 1인데 타겟 1,2\n",
    "# 아래 세개짜리는 경중급 2,3인데 타겟 0,1,2\n",
    "\n",
    "fig_cls = get_figures(train_df)"
   ]
  },
  {
   "cell_type": "code",
   "execution_count": 5,
   "metadata": {
    "colab": {
     "base_uri": "https://localhost:8080/",
     "height": 1000
    },
    "executionInfo": {
     "elapsed": 7180,
     "status": "ok",
     "timestamp": 1601995654921,
     "user": {
      "displayName": "박종환",
      "photoUrl": "",
      "userId": "15260900884747897261"
     },
     "user_tz": -540
    },
    "id": "tC5m9AK_2HwC",
    "outputId": "2c06eebb-d436-4a9a-95de-3a483f0c6405"
   },
   "outputs": [
    {
     "data": {
      "image/png": "[encoded data removed]",
      "text/plain": [
       "<Figure size 2160x720 with 2 Axes>"
      ]
     },
     "metadata": {
      "needs_background": "light"
     },
     "output_type": "display_data"
    },
    {
     "data": {
      "image/png": "[encoded data removed]",
      "text/plain": [
       "<Figure size 2160x720 with 3 Axes>"
      ]
     },
     "metadata": {
      "needs_background": "light"
     },
     "output_type": "display_data"
    }
   ],
   "source": [
    "dsas_avg_diag_fig = fig_cls.main(figsize=(30,10),val_col = 'dsas_avg_diag_bilg_isamt_s', by_col = 'dsas_acd_rst_dcd')"
   ]
  },
  {
   "cell_type": "code",
   "execution_count": 6,
   "metadata": {
    "colab": {
     "base_uri": "https://localhost:8080/",
     "height": 1000
    },
    "executionInfo": {
     "elapsed": 9637,
     "status": "ok",
     "timestamp": 1601995657386,
     "user": {
      "displayName": "박종환",
      "photoUrl": "",
      "userId": "15260900884747897261"
     },
     "user_tz": -540
    },
    "id": "mn0Nk0ML2KNX",
    "outputId": "d0e2e8b1-7040-4fa1-b8a5-aa238988a6f6"
   },
   "outputs": [
    {
     "data": {
      "image/png": "[encoded data removed]",
      "text/plain": [
       "<Figure size 2160x720 with 2 Axes>"
      ]
     },
     "metadata": {
      "needs_background": "light"
     },
     "output_type": "display_data"
    },
    {
     "data": {
      "image/png": "[encoded data removed]",
      "text/plain": [
       "<Figure size 2160x720 with 3 Axes>"
      ]
     },
     "metadata": {
      "needs_background": "light"
     },
     "output_type": "display_data"
    }
   ],
   "source": [
    "single_diag_fig = fig_cls.main(figsize=(30,10),val_col = 'bilg_isamt_s', by_col = 'dsas_acd_rst_dcd')"
   ]
  },
  {
   "cell_type": "code",
   "execution_count": 7,
   "metadata": {
    "colab": {
     "base_uri": "https://localhost:8080/",
     "height": 713
    },
    "executionInfo": {
     "elapsed": 11044,
     "status": "ok",
     "timestamp": 1601995658800,
     "user": {
      "displayName": "박종환",
      "photoUrl": "",
      "userId": "15260900884747897261"
     },
     "user_tz": -540
    },
    "id": "3pkxQOqXVA_s",
    "outputId": "b3b0dd6b-9a6b-4e91-fb65-f2e4c667c8b1"
   },
   "outputs": [
    {
     "data": {
      "text/plain": [
       "Text(0.5, 0.98, 'Group by dsas_ltwt_gcd, dsas_acd_rst_dcd by target')"
      ]
     },
     "execution_count": 7,
     "metadata": {},
     "output_type": "execute_result"
    },
    {
     "data": {
      "image/png": "[encoded data removed]",
      "text/plain": [
       "<Figure size 2160x720 with 2 Axes>"
      ]
     },
     "metadata": {
      "needs_background": "light"
     },
     "output_type": "display_data"
    }
   ],
   "source": [
    "cols_1_1 = ['dsas_ltwt_gcd','dsas_acd_rst_dcd','label_3']\n",
    "\n",
    "dsas_acd_sub = train_df.loc[train_df['dsas_acd_rst_dcd'].isin([7,8,9,10,11])]\n",
    "\n",
    "fig = plt.figure(figsize=(30,10))\n",
    "ax1=fig.add_subplot(1,5,(4,5))\n",
    "ax2=fig.add_subplot(1,5,(1,3))\n",
    "\n",
    "train_df[cols_1_1].groupby(cols_1_1).size().unstack().fillna(0).loc[1].T.plot.bar(ax=ax1) \n",
    "dsas_acd_sub.boxplot(column = 'dsas_avg_diag_bilg_isamt_s',by = cols_1_1,ax=ax2,rot=90,showfliers=True)\n",
    "\n",
    "ax1.title.set_text(\"'dsas_ltwt_gcd','dsas_acd_rst_dcd' by target\")\n",
    "ax1.set_xlabel(\"target\")\n",
    "\n",
    "ax2.title.set_text(\"dsas_ltwt_gcd by dsas_acd_rst_dcd\")\n",
    "ax2.set_xlabel(\"('dsas_ltwt_gcd', 'dsas_acd_rst_dcd', 'target')\")\n",
    "\n",
    "plt.suptitle(\"Group by dsas_ltwt_gcd, dsas_acd_rst_dcd by target\")"
   ]
  },
  {
   "cell_type": "markdown",
   "metadata": {
    "id": "gFsHBzjfVGyu"
   },
   "source": [
    "##2-2 청구정보(진단, 수술, 입원, 통원)에서 절대적 0과 상대적 0을 구분하는 파생변수 생성\n",
    "\n",
    "> 1) 청구정보성격(병원별평균청구, 질병별평균청구, 개별청구)별 0의 분포가 다르다.\n",
    "\n",
    "> 2) 질병구분별 0의 분포가 다르다. "
   ]
  },
  {
   "cell_type": "markdown",
   "metadata": {
    "id": "UPMikHUsZf7E"
   },
   "source": [
    "### 주요 변수별 연속형 0 "
   ]
  },
  {
   "cell_type": "markdown",
   "metadata": {
    "id": "gsVWvn8MT_uK"
   },
   "source": [
    "### 연속형 변수 - 타겟 별 0"
   ]
  },
  {
   "cell_type": "code",
   "execution_count": 8,
   "metadata": {
    "id": "PKdnwwvSI0Sh"
   },
   "outputs": [],
   "source": [
    "train_condi_zero = train_df[list(conti) + ['label_3']]"
   ]
  },
  {
   "cell_type": "code",
   "execution_count": 9,
   "metadata": {
    "colab": {
     "base_uri": "https://localhost:8080/",
     "height": 1000
    },
    "executionInfo": {
     "elapsed": 1222,
     "status": "ok",
     "timestamp": 1601995735702,
     "user": {
      "displayName": "박종환",
      "photoUrl": "",
      "userId": "15260900884747897261"
     },
     "user_tz": -540
    },
    "id": "_myTncUEOp4O",
    "outputId": "444128a6-6165-4dbf-aea6-3967d316cc59"
   },
   "outputs": [
    {
     "name": "stdout",
     "output_type": "stream",
     "text": [
      "columns :  hsp_avg_optt_bilg_isamt_s\n",
      "         hsp_avg_optt_bilg_isamt_s\n",
      "label_3                           \n",
      "0                            54689\n",
      "1                            93186\n",
      "2                            20710\n",
      "\n",
      "\n",
      "columns :  hsp_avg_surop_bilg_isamt_s\n",
      "         hsp_avg_surop_bilg_isamt_s\n",
      "label_3                            \n",
      "0                              4955\n",
      "1                             28850\n",
      "2                             10204\n",
      "\n",
      "\n",
      "columns :  hspz_dys_s\n",
      "         hspz_dys_s\n",
      "label_3            \n",
      "0             48968\n",
      "1             67395\n",
      "2             18721\n",
      "\n",
      "\n",
      "columns :  hsp_avg_diag_bilg_isamt_s\n",
      "         hsp_avg_diag_bilg_isamt_s\n",
      "label_3                           \n",
      "0                            62432\n",
      "1                           107236\n",
      "2                            21198\n",
      "\n",
      "\n",
      "columns :  dsas_avg_diag_bilg_isamt_s\n",
      "         dsas_avg_diag_bilg_isamt_s\n",
      "label_3                            \n",
      "0                             93733\n",
      "1                            128394\n",
      "2                             19558\n",
      "\n",
      "\n",
      "columns :  hsp_avg_hspz_bilg_isamt_s\n",
      "         hsp_avg_hspz_bilg_isamt_s\n",
      "label_3                           \n",
      "0                            27303\n",
      "1                            27144\n",
      "2                             2588\n",
      "\n",
      "\n",
      "columns :  optt_blcnt_s\n",
      "         optt_blcnt_s\n",
      "label_3              \n",
      "0               93704\n",
      "1              212007\n",
      "2               55981\n",
      "\n",
      "\n",
      "columns :  surop_blcnt_s\n",
      "         surop_blcnt_s\n",
      "label_3               \n",
      "0                19759\n",
      "1                98049\n",
      "2                27310\n",
      "\n",
      "\n",
      "columns :  dsas_avg_optt_bilg_isamt_s\n",
      "         dsas_avg_optt_bilg_isamt_s\n",
      "label_3                            \n",
      "0                             81554\n",
      "1                            120580\n",
      "2                             22539\n",
      "\n",
      "\n",
      "columns :  hspz_blcnt_s\n",
      "         hspz_blcnt_s\n",
      "label_3              \n",
      "0               43985\n",
      "1               58415\n",
      "2               16961\n",
      "\n",
      "\n",
      "columns :  dsas_avg_surop_bilg_isamt_s\n",
      "         dsas_avg_surop_bilg_isamt_s\n",
      "label_3                             \n",
      "0                                951\n",
      "1                               2589\n",
      "2                                339\n",
      "\n",
      "\n",
      "columns :  dsas_avg_hspz_bilg_isamt_s\n",
      "Empty DataFrame\n",
      "Columns: [dsas_avg_hspz_bilg_isamt_s]\n",
      "Index: []\n",
      "\n",
      "\n",
      "columns :  bilg_isamt_s\n",
      "         bilg_isamt_s\n",
      "label_3              \n",
      "0                 825\n",
      "1                5845\n",
      "2               21311\n",
      "\n",
      "\n",
      "columns :  optt_nbtm_s\n",
      "         optt_nbtm_s\n",
      "label_3             \n",
      "0              93715\n",
      "1             213982\n",
      "2              56298\n",
      "\n",
      "\n"
     ]
    }
   ],
   "source": [
    "for i in conti:\n",
    "  print(\"columns : \",i)\n",
    "  # print(train_condi_zero[train_condi_zero[i]==0][[i,'label_3']])\n",
    "  print(train_condi_zero[train_condi_zero[i]==0][[i,'label_3']].groupby('label_3').count())\n",
    "  print(\"\\n\")"
   ]
  },
  {
   "cell_type": "markdown",
   "metadata": {
    "id": "Obe23YrWZXgl"
   },
   "source": [
    "### 연속형 변수 - 질병구분코드 별 0"
   ]
  },
  {
   "cell_type": "code",
   "execution_count": 10,
   "metadata": {
    "id": "w50LP-0aO_lv"
   },
   "outputs": [],
   "source": [
    "train_dsas_acd_zero = train_df[list(conti) + ['dsas_acd_rst_dcd']]"
   ]
  },
  {
   "cell_type": "code",
   "execution_count": 11,
   "metadata": {
    "colab": {
     "base_uri": "https://localhost:8080/",
     "height": 1000
    },
    "executionInfo": {
     "elapsed": 1266,
     "status": "ok",
     "timestamp": 1601995736499,
     "user": {
      "displayName": "박종환",
      "photoUrl": "",
      "userId": "15260900884747897261"
     },
     "user_tz": -540
    },
    "id": "lCHZEkBSQT_a",
    "outputId": "d24be567-bfd9-410d-c7e5-c211274628f4"
   },
   "outputs": [
    {
     "name": "stdout",
     "output_type": "stream",
     "text": [
      "columns :  hsp_avg_optt_bilg_isamt_s\n",
      "                  hsp_avg_optt_bilg_isamt_s\n",
      "dsas_acd_rst_dcd                           \n",
      "1                                     19054\n",
      "2                                      1385\n",
      "3                                       415\n",
      "4                                        95\n",
      "5                                      4137\n",
      "6                                      5587\n",
      "7                                       911\n",
      "8                                      1954\n",
      "9                                      1123\n",
      "10                                     1575\n",
      "11                                     8829\n",
      "12                                     1319\n",
      "13                                      788\n",
      "14                                      188\n",
      "15                                     1307\n",
      "16                                     4503\n",
      "17                                    20897\n",
      "18                                       91\n",
      "19                                       84\n",
      "20                                       83\n",
      "21                                      386\n",
      "22                                    27134\n",
      "23                                     1391\n",
      "24                                     3143\n",
      "25                                     1641\n",
      "26                                    11201\n",
      "27                                    12390\n",
      "28                                    36974\n",
      "\n",
      "\n",
      "columns :  hsp_avg_surop_bilg_isamt_s\n",
      "                  hsp_avg_surop_bilg_isamt_s\n",
      "dsas_acd_rst_dcd                            \n",
      "1                                      14961\n",
      "2                                        403\n",
      "3                                        110\n",
      "4                                         88\n",
      "5                                       1345\n",
      "6                                       3643\n",
      "7                                        344\n",
      "8                                        795\n",
      "9                                        318\n",
      "10                                       301\n",
      "11                                      4748\n",
      "12                                       506\n",
      "13                                       266\n",
      "14                                        84\n",
      "15                                       725\n",
      "16                                      1700\n",
      "17                                     11620\n",
      "18                                        43\n",
      "19                                        42\n",
      "20                                        42\n",
      "21                                       170\n",
      "22                                        10\n",
      "23                                       719\n",
      "24                                        22\n",
      "25                                       258\n",
      "26                                       144\n",
      "27                                       197\n",
      "28                                       405\n",
      "\n",
      "\n",
      "columns :  hspz_dys_s\n",
      "                  hspz_dys_s\n",
      "dsas_acd_rst_dcd            \n",
      "1                      27074\n",
      "2                       3454\n",
      "3                        726\n",
      "4                        101\n",
      "5                       2867\n",
      "6                       1563\n",
      "7                         95\n",
      "8                        172\n",
      "9                        770\n",
      "10                       932\n",
      "11                        20\n",
      "12                        16\n",
      "13                        32\n",
      "14                        36\n",
      "15                        22\n",
      "16                       929\n",
      "17                      3246\n",
      "18                        29\n",
      "19                        20\n",
      "20                        25\n",
      "21                        35\n",
      "22                     26440\n",
      "23                       436\n",
      "24                      1127\n",
      "25                       201\n",
      "26                     10168\n",
      "27                     11059\n",
      "28                     43489\n",
      "\n",
      "\n",
      "columns :  hsp_avg_diag_bilg_isamt_s\n",
      "                  hsp_avg_diag_bilg_isamt_s\n",
      "dsas_acd_rst_dcd                           \n",
      "1                                     18902\n",
      "2                                       436\n",
      "3                                       137\n",
      "4                                       110\n",
      "5                                      4351\n",
      "6                                      5330\n",
      "7                                      1073\n",
      "8                                      3102\n",
      "9                                      1085\n",
      "10                                     1679\n",
      "11                                    11297\n",
      "12                                     1806\n",
      "13                                     1082\n",
      "14                                      324\n",
      "15                                     1742\n",
      "16                                     5506\n",
      "17                                    33854\n",
      "18                                      122\n",
      "19                                      111\n",
      "20                                      105\n",
      "21                                      533\n",
      "22                                    27145\n",
      "23                                     1549\n",
      "24                                     4715\n",
      "25                                     2315\n",
      "26                                    12076\n",
      "27                                    11743\n",
      "28                                    38636\n",
      "\n",
      "\n",
      "columns :  dsas_avg_diag_bilg_isamt_s\n",
      "                  dsas_avg_diag_bilg_isamt_s\n",
      "dsas_acd_rst_dcd                            \n",
      "7                                       2290\n",
      "8                                       5153\n",
      "9                                        586\n",
      "10                                      2548\n",
      "11                                     16395\n",
      "12                                      2298\n",
      "13                                      1554\n",
      "14                                       508\n",
      "15                                      2539\n",
      "16                                      9185\n",
      "17                                     41657\n",
      "18                                       213\n",
      "19                                       163\n",
      "20                                       157\n",
      "21                                       685\n",
      "22                                     31599\n",
      "23                                      2887\n",
      "24                                     10591\n",
      "25                                      4921\n",
      "26                                     18393\n",
      "27                                     21175\n",
      "28                                     66188\n",
      "\n",
      "\n",
      "columns :  hsp_avg_hspz_bilg_isamt_s\n",
      "                  hsp_avg_hspz_bilg_isamt_s\n",
      "dsas_acd_rst_dcd                           \n",
      "1                                      1540\n",
      "2                                       350\n",
      "3                                       110\n",
      "5                                        34\n",
      "6                                        47\n",
      "7                                         4\n",
      "8                                        15\n",
      "9                                       178\n",
      "10                                      514\n",
      "11                                        8\n",
      "12                                        4\n",
      "13                                        6\n",
      "14                                        7\n",
      "15                                        2\n",
      "16                                      227\n",
      "17                                      216\n",
      "18                                        3\n",
      "19                                        1\n",
      "20                                        2\n",
      "21                                        5\n",
      "22                                    19808\n",
      "23                                       99\n",
      "24                                       79\n",
      "25                                       25\n",
      "26                                     6902\n",
      "27                                     4487\n",
      "28                                    22362\n",
      "\n",
      "\n",
      "columns :  optt_blcnt_s\n",
      "                  optt_blcnt_s\n",
      "dsas_acd_rst_dcd              \n",
      "1                        74605\n",
      "2                         7074\n",
      "3                         1687\n",
      "4                          391\n",
      "5                        17963\n",
      "6                        12668\n",
      "7                         3057\n",
      "8                         6702\n",
      "9                         3883\n",
      "10                        2880\n",
      "11                       16327\n",
      "12                        2299\n",
      "13                        1563\n",
      "14                         519\n",
      "15                        2556\n",
      "16                        9881\n",
      "17                       41294\n",
      "18                         210\n",
      "19                         162\n",
      "20                         157\n",
      "21                         661\n",
      "22                       31506\n",
      "23                        2869\n",
      "24                       10531\n",
      "25                        4903\n",
      "26                       18345\n",
      "27                       21095\n",
      "28                       65904\n",
      "\n",
      "\n",
      "columns :  surop_blcnt_s\n"
     ]
    },
    {
     "name": "stdout",
     "output_type": "stream",
     "text": [
      "                  surop_blcnt_s\n",
      "dsas_acd_rst_dcd               \n",
      "1                         49350\n",
      "2                          2112\n",
      "3                           723\n",
      "4                           222\n",
      "5                          8646\n",
      "6                         10127\n",
      "7                          2862\n",
      "8                          4924\n",
      "9                          1830\n",
      "10                          959\n",
      "11                        16031\n",
      "12                         2047\n",
      "13                         1116\n",
      "14                          390\n",
      "15                         2134\n",
      "16                         6872\n",
      "17                        21912\n",
      "18                          112\n",
      "19                           81\n",
      "20                           82\n",
      "21                          394\n",
      "22                          110\n",
      "23                         1534\n",
      "24                          479\n",
      "25                         3687\n",
      "26                         2129\n",
      "27                         1562\n",
      "28                         2691\n",
      "\n",
      "\n",
      "columns :  dsas_avg_optt_bilg_isamt_s\n",
      "                  dsas_avg_optt_bilg_isamt_s\n",
      "dsas_acd_rst_dcd                            \n",
      "3                                         59\n",
      "4                                        124\n",
      "5                                      10895\n",
      "6                                      11315\n",
      "7                                       2007\n",
      "8                                       4929\n",
      "9                                       3848\n",
      "10                                      2621\n",
      "11                                     16395\n",
      "12                                      2287\n",
      "13                                      1531\n",
      "14                                       453\n",
      "15                                      2357\n",
      "16                                      9682\n",
      "17                                        16\n",
      "18                                        15\n",
      "19                                        16\n",
      "20                                        15\n",
      "21                                       407\n",
      "22                                     31581\n",
      "23                                      2864\n",
      "24                                     10586\n",
      "25                                      4918\n",
      "26                                     18390\n",
      "27                                     21174\n",
      "28                                     66188\n",
      "\n",
      "\n",
      "columns :  hspz_blcnt_s\n",
      "                  hspz_blcnt_s\n",
      "dsas_acd_rst_dcd              \n",
      "1                        25271\n",
      "2                         3155\n",
      "3                          677\n",
      "4                           84\n",
      "5                         2715\n",
      "6                         1518\n",
      "7                           95\n",
      "8                          157\n",
      "9                          713\n",
      "10                         645\n",
      "11                          12\n",
      "12                          16\n",
      "13                          30\n",
      "14                          34\n",
      "15                          19\n",
      "16                         874\n",
      "17                        3094\n",
      "18                          28\n",
      "19                          18\n",
      "20                          23\n",
      "21                          31\n",
      "22                       17952\n",
      "23                         388\n",
      "24                        1077\n",
      "25                         155\n",
      "26                        9401\n",
      "27                        9702\n",
      "28                       41477\n",
      "\n",
      "\n",
      "columns :  dsas_avg_surop_bilg_isamt_s\n",
      "                  dsas_avg_surop_bilg_isamt_s\n",
      "dsas_acd_rst_dcd                             \n",
      "11                                       2092\n",
      "12                                       1076\n",
      "13                                         60\n",
      "14                                         58\n",
      "15                                        593\n",
      "\n",
      "\n",
      "columns :  dsas_avg_hspz_bilg_isamt_s\n",
      "Empty DataFrame\n",
      "Columns: [dsas_avg_hspz_bilg_isamt_s]\n",
      "Index: []\n",
      "\n",
      "\n",
      "columns :  bilg_isamt_s\n",
      "                  bilg_isamt_s\n",
      "dsas_acd_rst_dcd              \n",
      "1                         8497\n",
      "2                         1252\n",
      "3                          539\n",
      "4                           33\n",
      "5                         2823\n",
      "6                         1988\n",
      "7                          297\n",
      "8                          823\n",
      "9                          562\n",
      "10                         567\n",
      "11                         484\n",
      "12                         360\n",
      "13                         199\n",
      "14                          70\n",
      "15                         276\n",
      "16                        1560\n",
      "17                        2677\n",
      "18                          35\n",
      "19                          31\n",
      "20                          37\n",
      "21                          49\n",
      "22                         818\n",
      "23                         124\n",
      "24                         120\n",
      "25                         217\n",
      "26                         735\n",
      "27                         954\n",
      "28                        1854\n",
      "\n",
      "\n",
      "columns :  optt_nbtm_s\n",
      "                  optt_nbtm_s\n",
      "dsas_acd_rst_dcd             \n",
      "1                       75791\n",
      "2                        7151\n",
      "3                        1696\n",
      "4                         402\n",
      "5                       18016\n",
      "6                       12708\n",
      "7                        3072\n",
      "8                        6717\n",
      "9                        3888\n",
      "10                       2894\n",
      "11                      16418\n",
      "12                       2309\n",
      "13                       1564\n",
      "14                        519\n",
      "15                       2556\n",
      "16                       9883\n",
      "17                      41458\n",
      "18                        210\n",
      "19                        162\n",
      "20                        157\n",
      "21                        672\n",
      "22                      31599\n",
      "23                       2887\n",
      "24                      10591\n",
      "25                       4919\n",
      "26                      18393\n",
      "27                      21175\n",
      "28                      66188\n",
      "\n",
      "\n"
     ]
    }
   ],
   "source": [
    "for i in conti:\n",
    "  print(\"columns : \",i)\n",
    "  # print(train_dsas_acd_zero[train_dsas_acd_zero[i]==0][[i,'dsas_acd_rst_dcd']])\n",
    "  print(train_dsas_acd_zero[train_dsas_acd_zero[i]==0][[i,'dsas_acd_rst_dcd']].groupby('dsas_acd_rst_dcd').count())\n",
    "  print(\"\\n\")"
   ]
  },
  {
   "cell_type": "code",
   "execution_count": 12,
   "metadata": {
    "id": "GRYQ6kYoJhPj"
   },
   "outputs": [],
   "source": [
    "  def get_q_range(q_d):\n",
    "\n",
    "    base_point = 10 ** (-1*q_d)\n",
    "\n",
    "    return np.arange(base_point, 1+base_point, base_point)\n",
    "\n",
    "  def get_single_quantile(base_df, col,q_d):\n",
    "    '''\n",
    "    q is quantile\n",
    "    '''\n",
    "\n",
    "    return base_df[col].quantile(get_q_range(q_d))"
   ]
  },
  {
   "cell_type": "markdown",
   "metadata": {
    "id": "mfqc2epD7gzN"
   },
   "source": [
    "## 2-3 훈련 데이터와 테스트 데이터 병원종류 차이에 따른 라벨링 수정\n",
    "\n",
    "> 1) 훈련 데이터에는 의료기관구분코드가 1부터 9까지 존재하나, 테스트 데이터에는 의료기관구분코드가 1부터 3까지 존재한다. 이에 따른 전처리가 필요하다   \n",
    "\n",
    ">> 훈련 데이터에서도 대부분의 데이터가 1-3 사이에 위치하고 있으며, 9의 경우가 많지 않는다.\n",
    ">> 테스트 데이터에서 없는 범주를 훈련하게 될 경우 모델의 학습시간 증가 및 복잡도 증가를 유발할 수 있다.\n",
    "\n",
    "> 2) 이에 따라서 학습하기 전에 훈련 데이터에서 의료기관구분코드가 9일 경우 해당 데이터를 제거했다.   \n",
    "\n",
    "> 3) 기존의 377928개의 데이터를 377735개로 줄이게 됨에 따라 전체 데이터에 큰 영향을 미치지 않고 이상치를 제거하여 학습할 수 있다.   "
   ]
  },
  {
   "cell_type": "code",
   "execution_count": 13,
   "metadata": {
    "colab": {
     "base_uri": "https://localhost:8080/",
     "height": 204
    },
    "executionInfo": {
     "elapsed": 21645,
     "status": "ok",
     "timestamp": 1601995669475,
     "user": {
      "displayName": "박종환",
      "photoUrl": "",
      "userId": "15260900884747897261"
     },
     "user_tz": -540
    },
    "id": "ClCKMfaoAGRl",
    "outputId": "078b8847-a706-4338-953c-a7679e898cd3"
   },
   "outputs": [
    {
     "data": {
      "text/html": [
       "<div>\n",
       "<style scoped>\n",
       "    .dataframe tbody tr th:only-of-type {\n",
       "        vertical-align: middle;\n",
       "    }\n",
       "\n",
       "    .dataframe tbody tr th {\n",
       "        vertical-align: top;\n",
       "    }\n",
       "\n",
       "    .dataframe thead th {\n",
       "        text-align: right;\n",
       "    }\n",
       "</style>\n",
       "<table border=\"1\" class=\"dataframe\">\n",
       "  <thead>\n",
       "    <tr style=\"text-align: right;\">\n",
       "      <th>nur_hosp_yn</th>\n",
       "      <th>0</th>\n",
       "      <th>1</th>\n",
       "    </tr>\n",
       "    <tr>\n",
       "      <th>mdct_inu_rclss_dcd</th>\n",
       "      <th></th>\n",
       "      <th></th>\n",
       "    </tr>\n",
       "  </thead>\n",
       "  <tbody>\n",
       "    <tr>\n",
       "      <th>1</th>\n",
       "      <td>29989.0</td>\n",
       "      <td>70945.0</td>\n",
       "    </tr>\n",
       "    <tr>\n",
       "      <th>2</th>\n",
       "      <td>190627.0</td>\n",
       "      <td>17209.0</td>\n",
       "    </tr>\n",
       "    <tr>\n",
       "      <th>3</th>\n",
       "      <td>68965.0</td>\n",
       "      <td>0.0</td>\n",
       "    </tr>\n",
       "    <tr>\n",
       "      <th>9</th>\n",
       "      <td>192.0</td>\n",
       "      <td>1.0</td>\n",
       "    </tr>\n",
       "  </tbody>\n",
       "</table>\n",
       "</div>"
      ],
      "text/plain": [
       "nur_hosp_yn                0        1\n",
       "mdct_inu_rclss_dcd                   \n",
       "1                    29989.0  70945.0\n",
       "2                   190627.0  17209.0\n",
       "3                    68965.0      0.0\n",
       "9                      192.0      1.0"
      ]
     },
     "execution_count": 13,
     "metadata": {},
     "output_type": "execute_result"
    }
   ],
   "source": [
    "train_df.groupby(['mdct_inu_rclss_dcd','nur_hosp_yn']).size().unstack().fillna(0)"
   ]
  },
  {
   "cell_type": "code",
   "execution_count": 14,
   "metadata": {
    "colab": {
     "base_uri": "https://localhost:8080/",
     "height": 173
    },
    "executionInfo": {
     "elapsed": 21640,
     "status": "ok",
     "timestamp": 1601995669476,
     "user": {
      "displayName": "박종환",
      "photoUrl": "",
      "userId": "15260900884747897261"
     },
     "user_tz": -540
    },
    "id": "nxOQjqEzAIKo",
    "outputId": "60985be9-0442-4329-e142-83590c6e4294"
   },
   "outputs": [
    {
     "data": {
      "text/html": [
       "<div>\n",
       "<style scoped>\n",
       "    .dataframe tbody tr th:only-of-type {\n",
       "        vertical-align: middle;\n",
       "    }\n",
       "\n",
       "    .dataframe tbody tr th {\n",
       "        vertical-align: top;\n",
       "    }\n",
       "\n",
       "    .dataframe thead th {\n",
       "        text-align: right;\n",
       "    }\n",
       "</style>\n",
       "<table border=\"1\" class=\"dataframe\">\n",
       "  <thead>\n",
       "    <tr style=\"text-align: right;\">\n",
       "      <th>nur_hosp_yn</th>\n",
       "      <th>0</th>\n",
       "      <th>1</th>\n",
       "    </tr>\n",
       "    <tr>\n",
       "      <th>mdct_inu_rclss_dcd</th>\n",
       "      <th></th>\n",
       "      <th></th>\n",
       "    </tr>\n",
       "  </thead>\n",
       "  <tbody>\n",
       "    <tr>\n",
       "      <th>1</th>\n",
       "      <td>1600.0</td>\n",
       "      <td>5066.0</td>\n",
       "    </tr>\n",
       "    <tr>\n",
       "      <th>2</th>\n",
       "      <td>10814.0</td>\n",
       "      <td>907.0</td>\n",
       "    </tr>\n",
       "    <tr>\n",
       "      <th>3</th>\n",
       "      <td>3685.0</td>\n",
       "      <td>0.0</td>\n",
       "    </tr>\n",
       "  </tbody>\n",
       "</table>\n",
       "</div>"
      ],
      "text/plain": [
       "nur_hosp_yn               0       1\n",
       "mdct_inu_rclss_dcd                 \n",
       "1                    1600.0  5066.0\n",
       "2                   10814.0   907.0\n",
       "3                    3685.0     0.0"
      ]
     },
     "execution_count": 14,
     "metadata": {},
     "output_type": "execute_result"
    }
   ],
   "source": [
    "test_df.groupby(['mdct_inu_rclss_dcd','nur_hosp_yn']).size().unstack().fillna(0)"
   ]
  }
 ],
 "metadata": {
  "colab": {
   "collapsed_sections": [],
   "name": "Eda_process.ipynb",
   "provenance": [
    {
     "file_id": "1PjA9oJzGqGefYlLm0Lq0HED0yixd-CLj",
     "timestamp": 1601972166671
    }
   ],
   "toc_visible": true
  },
  "kernelspec": {
   "display_name": "Python 3",
   "language": "python",
   "name": "python3"
  },
  "language_info": {
   "codemirror_mode": {
    "name": "ipython",
    "version": 3
   },
   "file_extension": ".py",
   "mimetype": "text/x-python",
   "name": "python",
   "nbconvert_exporter": "python",
   "pygments_lexer": "ipython3",
   "version": "3.7.3"
  }
 },
 "nbformat": 4,
 "nbformat_minor": 1
}
